{
 "cells": [
  {
   "cell_type": "code",
   "execution_count": null,
   "id": "b3535ce3",
   "metadata": {},
   "outputs": [],
   "source": [
    "from sympy import *"
   ]
  },
  {
   "cell_type": "code",
   "execution_count": null,
   "id": "48afde77",
   "metadata": {},
   "outputs": [],
   "source": [
    "# Matrixmultiplikation zweier sympy Matrizen\n",
    "def mult(A, B):\n",
    "    # get dimensions of A and B\n",
    "    [dimA, dimB] = [shape(A), shape(B)]\n",
    "    if dimA[1] != dimB[0]:\n",
    "        return None\n",
    "    else:\n",
    "        C = zeros(dimA[0], dimB[1])\n",
    "        # Rows times columns\n",
    "        for i in range(0, dimA[0]):\n",
    "            for j in range(0, dimB[1]):\n",
    "                for k in range(0, dimA[1]):\n",
    "                    C[i,j] += A[i,k]*B[k,j]\n",
    "        # Simplify expressions before return\n",
    "        return simplify(C)"
   ]
  },
  {
   "cell_type": "code",
   "execution_count": null,
   "id": "c4d0b71a",
   "metadata": {},
   "outputs": [],
   "source": [
    "# Multiplication with elementary matrices\n",
    "# func is the type of row operation to be performed\n",
    "# z1 and z2 are row numbers\n",
    "# A is a matrix\n",
    "def common(func, z1, z2, c, A):\n",
    "    dim = shape(A)\n",
    "    E = eye(dim[0])\n",
    "    # Define conresponding Matrix E depending of the row operation func\n",
    "    if func == multRow or func == multRowAdd:\n",
    "        E[z1, z2] = c\n",
    "    if func == swapRows:\n",
    "        E[z1,z1] = 0\n",
    "        E[z2,z2] = 0\n",
    "        E[z1,z2] = 1\n",
    "        E[z2,z1] = 1\n",
    "    B = E*A\n",
    "    # B is the resulting Matrix after the row operation on A\n",
    "    B.applyfunc(simplify)\n",
    "    return B\n",
    "\n",
    "# Multiplication of row z from matrix A with the constant c\n",
    "def multRow(z, c, A):\n",
    "    return common(multRow, z, z, c, A)\n",
    "\n",
    "# Add c times row z2 to the row z1 of matrix A\n",
    "def multRowAdd(z1, z2, c, A):\n",
    "    return common(multRowAdd, z1, z2, c, A)\n",
    "\n",
    "# Swap the rows z1 and z2 of matrix A\n",
    "def swapRows(z1, z2, A):\n",
    "    return common(swapRows, z1, z2, None, A)\n",
    "\n",
    "# Returns the row echelon form of the matrix A \n",
    "# and a list of the columns form the pivot elements\n",
    "def gauss(A):\n",
    "    dim = shape(A)\n",
    "    rows, columns = dim[0], dim[1]\n",
    "    [i, j] = [0, 0]\n",
    "    A.applyfunc(simplify)\n",
    "    # store pivot elements\n",
    "    pivots = []\n",
    "    # start in top left corner of the matrix\n",
    "    while(i < rows and j < columns):\n",
    "        # try finding pivot element in column j\n",
    "        if (A[i,j]==0):\n",
    "            for k in range(i+1, rows):\n",
    "                if 0 != A[k,j]:\n",
    "                    A = swapRows(i, k, A)\n",
    "                    break\n",
    "        # use pivot element to eliminate below in column j\n",
    "        if A[i,j] != 0:\n",
    "            pivots.append(j)\n",
    "            # normalize A[i,j]\n",
    "            A = multRow(i, 1/A[i,j], A)\n",
    "            for k in range(i+1, rows):\n",
    "                # eliminate A[k,j]\n",
    "                A = multRowAdd(k, i, -A[k,j], A)\n",
    "            # go to next row and column\n",
    "            i += 1\n",
    "            j += 1\n",
    "        else:\n",
    "            # go to next column\n",
    "            j += 1\n",
    "    # eliminate above pivot elements\n",
    "    i = 0\n",
    "    for j in pivots:\n",
    "        for k in range(0, i):\n",
    "            # eliminate A[k,j]\n",
    "            A = multRowAdd(k, i, -A[k,j], A)\n",
    "        i += 1\n",
    "    return (A, tuple(pivots))"
   ]
  },
  {
   "cell_type": "code",
   "execution_count": null,
   "id": "894c632d",
   "metadata": {},
   "outputs": [],
   "source": [
    "# Returns the inverse of the matrix A if it exists\n",
    "# Returns None otherwise\n",
    "def inverse(A):\n",
    "    dim = shape(A)\n",
    "    if dim[0] != dim[1]:\n",
    "        return None\n",
    "    else:\n",
    "        n = dim[0]\n",
    "        # For calculating the inverse, the unitary matrix is appended after A\n",
    "        A = Matrix([[A, eye(n)]])\n",
    "        G = gauss(A)\n",
    "        # G[1] is the list of pivots\n",
    "        # A invertible is equivalent to G[1] = [0, 1, ... , n-1]\n",
    "        if G[1] == tuple(range(0,n)):\n",
    "            # The first half of G is the unitary matrix\n",
    "            # return the second half of the Matrix G\n",
    "            return (gauss(A)[0])[:, list(range(n, 2*n))]\n",
    "        else:\n",
    "            return None "
   ]
  },
  {
   "cell_type": "code",
   "execution_count": null,
   "id": "9c8ce634",
   "metadata": {},
   "outputs": [],
   "source": [
    "# return the determinant of the matrix A\n",
    "def laplace(A):\n",
    "    dim = shape(A)\n",
    "    # Square matrix is needed\n",
    "    if dim[0] != dim[1]:\n",
    "        return None\n",
    "    else:\n",
    "        # We use recursion on the dimension to calculate the determinant\n",
    "        n = dim[0]\n",
    "        if n == 1:\n",
    "            return A[0,0]\n",
    "        else:\n",
    "            detA = 0\n",
    "            parity = 1\n",
    "            columns = list(range(0,n))\n",
    "            # columns = [0, 1, ... , n-1]\n",
    "            # Laplace expansion on the first row\n",
    "            for j in range(0,n):\n",
    "                columns.remove(j)\n",
    "                # A[1:,columns] is the matrix A without row 1 and column j\n",
    "                # A[1:,columns] has dimension (n-1)x(n-1)\n",
    "                c = parity * A[0,j] * laplace(A[1:,columns])\n",
    "                detA += c\n",
    "                columns.insert(j,j)\n",
    "                parity *= -1\n",
    "            return detA"
   ]
  },
  {
   "cell_type": "code",
   "execution_count": null,
   "id": "a45777aa",
   "metadata": {},
   "outputs": [],
   "source": [
    "# Calculates the list of eigenvalues of matrix A\n",
    "def eigenVal(A):\n",
    "    dim = shape(A)\n",
    "    if dim[0] != dim[1]:\n",
    "        return None\n",
    "    else:\n",
    "        n = dim[0]\n",
    "        # Subtract the symoblic variable x form the diagonal of A\n",
    "        x = symbols('x')\n",
    "        A = A - x*eye(n)\n",
    "        # Calculate characteristic polynominal\n",
    "        charPoly = laplace(A)\n",
    "        # get the roots of the characteristic polynominal\n",
    "        return solve(charPoly, x)\n",
    "\n",
    "# Calculates numeric values for the eigenvalues of matrix A \n",
    "def eigenValNumeric(A):\n",
    "    return list(map(lambda x: x.evalf(), eigenVal(A)))"
   ]
  },
  {
   "cell_type": "markdown",
   "id": "2a6af189",
   "metadata": {},
   "source": [
    "<h2>Multiplikation</h2>\n"
   ]
  },
  {
   "cell_type": "code",
   "execution_count": null,
   "id": "d2115fc5",
   "metadata": {},
   "outputs": [],
   "source": [
    "A = Matrix([[1,2,3],[4,5,6],[7,8,9]])\n",
    "B = Matrix([[0,-1,-2],[-3,-4,-5],[-6,-7,-8]])\n",
    "pprint(A)\n",
    "pprint(B)"
   ]
  },
  {
   "cell_type": "code",
   "execution_count": null,
   "id": "4da481eb",
   "metadata": {},
   "outputs": [],
   "source": [
    "C = mult(A,B)\n",
    "pprint(C)"
   ]
  },
  {
   "cell_type": "markdown",
   "id": "0771fd60",
   "metadata": {},
   "source": [
    "<h2>Zeilenstufenform (Gauß)</h2>"
   ]
  },
  {
   "cell_type": "code",
   "execution_count": null,
   "id": "b192af73",
   "metadata": {},
   "outputs": [],
   "source": [
    "A = Matrix([[1, 2, 3, 0],[4, 5, 6, -1],[7, 8, 9, -2],[10,11,12,-4]])\n",
    "pprint(A)"
   ]
  },
  {
   "cell_type": "code",
   "execution_count": null,
   "id": "c8b0062b",
   "metadata": {
    "scrolled": true
   },
   "outputs": [],
   "source": [
    "res = gauss(A)\n",
    "pprint(res)"
   ]
  },
  {
   "cell_type": "markdown",
   "id": "b7c75f4e",
   "metadata": {},
   "source": [
    "<h2>Inverse Matrix</h2>"
   ]
  },
  {
   "cell_type": "code",
   "execution_count": null,
   "id": "82460de2",
   "metadata": {},
   "outputs": [],
   "source": [
    "A = Matrix([[1, 2, 3],[4, 5, 6],[7, 8, 0]])\n",
    "pprint(A)"
   ]
  },
  {
   "cell_type": "code",
   "execution_count": null,
   "id": "adea6858",
   "metadata": {},
   "outputs": [],
   "source": [
    "B = inverse(A)\n",
    "pprint(B)"
   ]
  },
  {
   "cell_type": "markdown",
   "id": "333c713b",
   "metadata": {},
   "source": [
    "<h2>Determinante</h2>"
   ]
  },
  {
   "cell_type": "code",
   "execution_count": null,
   "id": "e5a79dc8",
   "metadata": {},
   "outputs": [],
   "source": [
    "A = Matrix([[1, 2, 3],[4, 5, 6],[7, 8, 0]])\n",
    "pprint(A)"
   ]
  },
  {
   "cell_type": "code",
   "execution_count": null,
   "id": "7c0d9881",
   "metadata": {},
   "outputs": [],
   "source": [
    "laplace(A)"
   ]
  },
  {
   "cell_type": "markdown",
   "id": "182a172b",
   "metadata": {},
   "source": [
    "<h2>Eigenwerte</h2>"
   ]
  },
  {
   "cell_type": "code",
   "execution_count": null,
   "id": "d5ca8462",
   "metadata": {},
   "outputs": [],
   "source": [
    "A = Matrix([[-2, -4, 2],[-2, 1, 0],[4, 2, 5]])\n",
    "pprint(A)"
   ]
  },
  {
   "cell_type": "code",
   "execution_count": null,
   "id": "f08830c7",
   "metadata": {},
   "outputs": [],
   "source": [
    "res = eigenVal(A)\n",
    "pprint(res)"
   ]
  },
  {
   "cell_type": "code",
   "execution_count": null,
   "id": "50b65829",
   "metadata": {},
   "outputs": [],
   "source": [
    "res = eigenValNumeric(A)\n",
    "pprint(res)"
   ]
  },
  {
   "cell_type": "markdown",
   "id": "dbc69e6b",
   "metadata": {},
   "source": [
    "<h2>Äquivalente SymPy Methoden</h2>\n",
    "<p style=\"font-size: 20px\">\n",
    "mult(A,B)    <->  A*B <br>\n",
    "gauss(A)     <->  A.rref() <br>\n",
    "inverse(A)   <->  A.inv() <br>\n",
    "laplace(A)   <->  A.det() <br>\n",
    "eigenVal(A)  <->  A.eigenvals() <br></p>"
   ]
  },
  {
   "cell_type": "code",
   "execution_count": null,
   "id": "cab7074d",
   "metadata": {},
   "outputs": [],
   "source": [
    "#Beispiel Gauselimination\n",
    "\n",
    "A = Matrix([[1, 2, 3],[4, 5, 6],[7, 8, 9]])\n",
    "print(\"A = \")\n",
    "pprint(A)\n",
    "\n",
    "print(\"gauss(A) = \")\n",
    "B = gauss(A)\n",
    "pprint(B)\n",
    "\n",
    "print(\"builtin sympy Ergebniss = \")\n",
    "C = A.rref()\n",
    "pprint(C)"
   ]
  },
  {
   "cell_type": "markdown",
   "id": "ec2b6ee9",
   "metadata": {},
   "source": [
    "<h2> Hamming Code (7,4) </h2>"
   ]
  },
  {
   "cell_type": "code",
   "execution_count": null,
   "id": "544b8759",
   "metadata": {},
   "outputs": [],
   "source": [
    "# bitList is a list of 4 bits\n",
    "# generateHamming return a list of 7 bits, which consists of the 4 input bits\n",
    "# and 3 additional parity bits \n",
    "def generateHamming(bitList):\n",
    "    # G is a 7x4 Matrix for encoding\n",
    "    G = Matrix([[1, 1, 0, 1],\n",
    "                [1, 0, 1, 1],\n",
    "                [1, 0, 0, 0],\n",
    "                [0, 1, 1, 1], \n",
    "                [0, 1, 0, 0], \n",
    "                [0, 0, 1, 0], \n",
    "                [0, 0, 0, 1]])\n",
    "    x = Matrix(bitList)\n",
    "    y = (G * x) % 2\n",
    "    # y[0], y[1], y[3] are parity bits\n",
    "    # y[2], y[4], y[5], y[6] are the bits from bitList\n",
    "    return list(y)\n",
    "\n",
    "# bitList is a list of 7 bits\n",
    "# decodeHamming corrects up to 1 bit flip\n",
    "# In this case, it returns a tuple consisting of the original\n",
    "# 4 message bits and a string with information about the corrected bit\n",
    "def decodeHamming(bitList):\n",
    "    # H is a 3x7 Matrix for bit flip error checking\n",
    "    H = Matrix([[1, 0, 1, 0, 1, 0, 1], \n",
    "                [0, 1, 1, 0, 0, 1, 1], \n",
    "                [0, 0, 0, 1, 1, 1, 1]])\n",
    "    r = Matrix(bitList)\n",
    "    zeros3 = zeros(3, 1)\n",
    "    # The result of the Multiplication of H and r (mod 2)\n",
    "    # tells if the parity and the message bits are in sync\n",
    "    if zeros3 == (H * r) % 2:\n",
    "        return ([r[2], r[4], r[5], r[6]], \"Kein Bit korrigiert\")\n",
    "    else:\n",
    "        # Test all possible bit flips\n",
    "        for i in range(0, 7):\n",
    "            e = zeros(7, 1)\n",
    "            e[i] = 1\n",
    "            rNew = (r + e) % 2\n",
    "            # rNew differs from r in the i-th bit\n",
    "            if zeros3 == (H * rNew) % 2:\n",
    "                return ([rNew[2], rNew[4], rNew[5], rNew[6]], \"Bit \"+str(i+1)+\" korrigiert\")"
   ]
  },
  {
   "cell_type": "code",
   "execution_count": null,
   "id": "175e911d",
   "metadata": {},
   "outputs": [],
   "source": [
    "generateHamming([1,1,1,1])"
   ]
  },
  {
   "cell_type": "code",
   "execution_count": null,
   "id": "86ca6374",
   "metadata": {},
   "outputs": [],
   "source": [
    "decodeHamming([1, 1, 1, 1, 1, 0, 1])"
   ]
  },
  {
   "cell_type": "code",
   "execution_count": null,
   "id": "04adfc0c",
   "metadata": {},
   "outputs": [],
   "source": []
  },
  {
   "cell_type": "code",
   "execution_count": null,
   "id": "3774eb79",
   "metadata": {},
   "outputs": [],
   "source": []
  }
 ],
 "metadata": {
  "celltoolbar": "Raw Cell Format",
  "kernelspec": {
   "display_name": "Python 3 (ipykernel)",
   "language": "python",
   "name": "python3"
  },
  "language_info": {
   "codemirror_mode": {
    "name": "ipython",
    "version": 3
   },
   "file_extension": ".py",
   "mimetype": "text/x-python",
   "name": "python",
   "nbconvert_exporter": "python",
   "pygments_lexer": "ipython3",
   "version": "3.10.9"
  }
 },
 "nbformat": 4,
 "nbformat_minor": 5
}
